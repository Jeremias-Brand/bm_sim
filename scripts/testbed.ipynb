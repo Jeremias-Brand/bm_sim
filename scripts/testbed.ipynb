{
 "cells": [
  {
   "cell_type": "code",
   "execution_count": 48,
   "metadata": {},
   "outputs": [
    {
     "data": {
      "text/plain": [
       "['t1_N100_clade20_b1.5_d0.5_rate1_pr1',\n",
       " 't1_N100_clade20_b1.5_d0.5_rate2_pr1',\n",
       " 't1_N100_clade20_b1.5_d0.5_rate5_pr1',\n",
       " 't1_N100_clade20_b1.5_d0.5_rate1000_pr1',\n",
       " 't2_N100_clade20_b1.5_d0.5_rate1_pr1',\n",
       " 't2_N100_clade20_b1.5_d0.5_rate2_pr1',\n",
       " 't2_N100_clade20_b1.5_d0.5_rate5_pr1',\n",
       " 't2_N100_clade20_b1.5_d0.5_rate1000_pr1',\n",
       " 't3_N100_clade20_b1.5_d0.5_rate1_pr1',\n",
       " 't3_N100_clade20_b1.5_d0.5_rate2_pr1',\n",
       " 't3_N100_clade20_b1.5_d0.5_rate5_pr1',\n",
       " 't3_N100_clade20_b1.5_d0.5_rate1000_pr1',\n",
       " 't4_N100_clade20_b1.5_d0.5_rate1_pr1',\n",
       " 't4_N100_clade20_b1.5_d0.5_rate2_pr1',\n",
       " 't4_N100_clade20_b1.5_d0.5_rate5_pr1',\n",
       " 't4_N100_clade20_b1.5_d0.5_rate1000_pr1',\n",
       " 't5_N100_clade20_b1.5_d0.5_rate1_pr1',\n",
       " 't5_N100_clade20_b1.5_d0.5_rate2_pr1',\n",
       " 't5_N100_clade20_b1.5_d0.5_rate5_pr1',\n",
       " 't5_N100_clade20_b1.5_d0.5_rate1000_pr1',\n",
       " 't6_N100_clade20_b1.5_d0.5_rate1_pr1',\n",
       " 't6_N100_clade20_b1.5_d0.5_rate2_pr1',\n",
       " 't6_N100_clade20_b1.5_d0.5_rate5_pr1',\n",
       " 't6_N100_clade20_b1.5_d0.5_rate1000_pr1',\n",
       " 't7_N100_clade20_b1.5_d0.5_rate1_pr1',\n",
       " 't7_N100_clade20_b1.5_d0.5_rate2_pr1',\n",
       " 't7_N100_clade20_b1.5_d0.5_rate5_pr1',\n",
       " 't7_N100_clade20_b1.5_d0.5_rate1000_pr1',\n",
       " 't8_N100_clade20_b1.5_d0.5_rate1_pr1',\n",
       " 't8_N100_clade20_b1.5_d0.5_rate2_pr1',\n",
       " 't8_N100_clade20_b1.5_d0.5_rate5_pr1',\n",
       " 't8_N100_clade20_b1.5_d0.5_rate1000_pr1',\n",
       " 't9_N100_clade20_b1.5_d0.5_rate1_pr1',\n",
       " 't9_N100_clade20_b1.5_d0.5_rate2_pr1',\n",
       " 't9_N100_clade20_b1.5_d0.5_rate5_pr1',\n",
       " 't9_N100_clade20_b1.5_d0.5_rate1000_pr1',\n",
       " 't10_N100_clade20_b1.5_d0.5_rate1_pr1',\n",
       " 't10_N100_clade20_b1.5_d0.5_rate2_pr1',\n",
       " 't10_N100_clade20_b1.5_d0.5_rate5_pr1',\n",
       " 't10_N100_clade20_b1.5_d0.5_rate1000_pr1',\n",
       " 't11_N100_clade20_b1.5_d0.5_rate1_pr1',\n",
       " 't11_N100_clade20_b1.5_d0.5_rate2_pr1',\n",
       " 't11_N100_clade20_b1.5_d0.5_rate5_pr1',\n",
       " 't11_N100_clade20_b1.5_d0.5_rate1000_pr1',\n",
       " 't12_N100_clade20_b1.5_d0.5_rate1_pr1',\n",
       " 't12_N100_clade20_b1.5_d0.5_rate2_pr1',\n",
       " 't12_N100_clade20_b1.5_d0.5_rate5_pr1',\n",
       " 't12_N100_clade20_b1.5_d0.5_rate1000_pr1',\n",
       " 't13_N100_clade20_b1.5_d0.5_rate1_pr1',\n",
       " 't13_N100_clade20_b1.5_d0.5_rate2_pr1',\n",
       " 't13_N100_clade20_b1.5_d0.5_rate5_pr1',\n",
       " 't13_N100_clade20_b1.5_d0.5_rate1000_pr1',\n",
       " 't14_N100_clade20_b1.5_d0.5_rate1_pr1',\n",
       " 't14_N100_clade20_b1.5_d0.5_rate2_pr1',\n",
       " 't14_N100_clade20_b1.5_d0.5_rate5_pr1',\n",
       " 't14_N100_clade20_b1.5_d0.5_rate1000_pr1',\n",
       " 't15_N100_clade20_b1.5_d0.5_rate1_pr1',\n",
       " 't15_N100_clade20_b1.5_d0.5_rate2_pr1',\n",
       " 't15_N100_clade20_b1.5_d0.5_rate5_pr1',\n",
       " 't15_N100_clade20_b1.5_d0.5_rate1000_pr1',\n",
       " 't16_N100_clade20_b1.5_d0.5_rate1_pr1',\n",
       " 't16_N100_clade20_b1.5_d0.5_rate2_pr1',\n",
       " 't16_N100_clade20_b1.5_d0.5_rate5_pr1',\n",
       " 't16_N100_clade20_b1.5_d0.5_rate1000_pr1',\n",
       " 't17_N100_clade20_b1.5_d0.5_rate1_pr1',\n",
       " 't17_N100_clade20_b1.5_d0.5_rate2_pr1',\n",
       " 't17_N100_clade20_b1.5_d0.5_rate5_pr1',\n",
       " 't17_N100_clade20_b1.5_d0.5_rate1000_pr1',\n",
       " 't18_N100_clade20_b1.5_d0.5_rate1_pr1',\n",
       " 't18_N100_clade20_b1.5_d0.5_rate2_pr1',\n",
       " 't18_N100_clade20_b1.5_d0.5_rate5_pr1',\n",
       " 't18_N100_clade20_b1.5_d0.5_rate1000_pr1',\n",
       " 't19_N100_clade20_b1.5_d0.5_rate1_pr1',\n",
       " 't19_N100_clade20_b1.5_d0.5_rate2_pr1',\n",
       " 't19_N100_clade20_b1.5_d0.5_rate5_pr1',\n",
       " 't19_N100_clade20_b1.5_d0.5_rate1000_pr1',\n",
       " 't20_N100_clade20_b1.5_d0.5_rate1_pr1',\n",
       " 't20_N100_clade20_b1.5_d0.5_rate2_pr1',\n",
       " 't20_N100_clade20_b1.5_d0.5_rate5_pr1',\n",
       " 't20_N100_clade20_b1.5_d0.5_rate1000_pr1',\n",
       " 't21_N100_clade20_b1.5_d0.5_rate1_pr1',\n",
       " 't21_N100_clade20_b1.5_d0.5_rate2_pr1',\n",
       " 't21_N100_clade20_b1.5_d0.5_rate5_pr1',\n",
       " 't21_N100_clade20_b1.5_d0.5_rate1000_pr1',\n",
       " 't22_N100_clade20_b1.5_d0.5_rate1_pr1',\n",
       " 't22_N100_clade20_b1.5_d0.5_rate2_pr1',\n",
       " 't22_N100_clade20_b1.5_d0.5_rate5_pr1',\n",
       " 't22_N100_clade20_b1.5_d0.5_rate1000_pr1',\n",
       " 't23_N100_clade20_b1.5_d0.5_rate1_pr1',\n",
       " 't23_N100_clade20_b1.5_d0.5_rate2_pr1',\n",
       " 't23_N100_clade20_b1.5_d0.5_rate5_pr1',\n",
       " 't23_N100_clade20_b1.5_d0.5_rate1000_pr1',\n",
       " 't24_N100_clade20_b1.5_d0.5_rate1_pr1',\n",
       " 't24_N100_clade20_b1.5_d0.5_rate2_pr1',\n",
       " 't24_N100_clade20_b1.5_d0.5_rate5_pr1',\n",
       " 't24_N100_clade20_b1.5_d0.5_rate1000_pr1',\n",
       " 't25_N100_clade20_b1.5_d0.5_rate1_pr1',\n",
       " 't25_N100_clade20_b1.5_d0.5_rate2_pr1',\n",
       " 't25_N100_clade20_b1.5_d0.5_rate5_pr1',\n",
       " 't25_N100_clade20_b1.5_d0.5_rate1000_pr1',\n",
       " 't26_N100_clade20_b1.5_d0.5_rate1_pr1',\n",
       " 't26_N100_clade20_b1.5_d0.5_rate2_pr1',\n",
       " 't26_N100_clade20_b1.5_d0.5_rate5_pr1',\n",
       " 't26_N100_clade20_b1.5_d0.5_rate1000_pr1',\n",
       " 't27_N100_clade20_b1.5_d0.5_rate1_pr1',\n",
       " 't27_N100_clade20_b1.5_d0.5_rate2_pr1',\n",
       " 't27_N100_clade20_b1.5_d0.5_rate5_pr1',\n",
       " 't27_N100_clade20_b1.5_d0.5_rate1000_pr1',\n",
       " 't28_N100_clade20_b1.5_d0.5_rate1_pr1',\n",
       " 't28_N100_clade20_b1.5_d0.5_rate2_pr1',\n",
       " 't28_N100_clade20_b1.5_d0.5_rate5_pr1',\n",
       " 't28_N100_clade20_b1.5_d0.5_rate1000_pr1',\n",
       " 't29_N100_clade20_b1.5_d0.5_rate1_pr1',\n",
       " 't29_N100_clade20_b1.5_d0.5_rate2_pr1',\n",
       " 't29_N100_clade20_b1.5_d0.5_rate5_pr1',\n",
       " 't29_N100_clade20_b1.5_d0.5_rate1000_pr1',\n",
       " 't30_N100_clade20_b1.5_d0.5_rate1_pr1',\n",
       " 't30_N100_clade20_b1.5_d0.5_rate2_pr1',\n",
       " 't30_N100_clade20_b1.5_d0.5_rate5_pr1',\n",
       " 't30_N100_clade20_b1.5_d0.5_rate1000_pr1',\n",
       " 't31_N100_clade20_b1.5_d0.5_rate1_pr1',\n",
       " 't31_N100_clade20_b1.5_d0.5_rate2_pr1',\n",
       " 't31_N100_clade20_b1.5_d0.5_rate5_pr1',\n",
       " 't31_N100_clade20_b1.5_d0.5_rate1000_pr1',\n",
       " 't32_N100_clade20_b1.5_d0.5_rate1_pr1',\n",
       " 't32_N100_clade20_b1.5_d0.5_rate2_pr1',\n",
       " 't32_N100_clade20_b1.5_d0.5_rate5_pr1',\n",
       " 't32_N100_clade20_b1.5_d0.5_rate1000_pr1',\n",
       " 't33_N100_clade20_b1.5_d0.5_rate1_pr1',\n",
       " 't33_N100_clade20_b1.5_d0.5_rate2_pr1',\n",
       " 't33_N100_clade20_b1.5_d0.5_rate5_pr1',\n",
       " 't33_N100_clade20_b1.5_d0.5_rate1000_pr1',\n",
       " 't34_N100_clade20_b1.5_d0.5_rate1_pr1',\n",
       " 't34_N100_clade20_b1.5_d0.5_rate2_pr1',\n",
       " 't34_N100_clade20_b1.5_d0.5_rate5_pr1',\n",
       " 't34_N100_clade20_b1.5_d0.5_rate1000_pr1',\n",
       " 't35_N100_clade20_b1.5_d0.5_rate1_pr1',\n",
       " 't35_N100_clade20_b1.5_d0.5_rate2_pr1',\n",
       " 't35_N100_clade20_b1.5_d0.5_rate5_pr1',\n",
       " 't35_N100_clade20_b1.5_d0.5_rate1000_pr1',\n",
       " 't36_N100_clade20_b1.5_d0.5_rate1_pr1',\n",
       " 't36_N100_clade20_b1.5_d0.5_rate2_pr1',\n",
       " 't36_N100_clade20_b1.5_d0.5_rate5_pr1',\n",
       " 't36_N100_clade20_b1.5_d0.5_rate1000_pr1',\n",
       " 't37_N100_clade20_b1.5_d0.5_rate1_pr1',\n",
       " 't37_N100_clade20_b1.5_d0.5_rate2_pr1',\n",
       " 't37_N100_clade20_b1.5_d0.5_rate5_pr1',\n",
       " 't37_N100_clade20_b1.5_d0.5_rate1000_pr1',\n",
       " 't38_N100_clade20_b1.5_d0.5_rate1_pr1',\n",
       " 't38_N100_clade20_b1.5_d0.5_rate2_pr1',\n",
       " 't38_N100_clade20_b1.5_d0.5_rate5_pr1',\n",
       " 't38_N100_clade20_b1.5_d0.5_rate1000_pr1',\n",
       " 't39_N100_clade20_b1.5_d0.5_rate1_pr1',\n",
       " 't39_N100_clade20_b1.5_d0.5_rate2_pr1',\n",
       " 't39_N100_clade20_b1.5_d0.5_rate5_pr1',\n",
       " 't39_N100_clade20_b1.5_d0.5_rate1000_pr1',\n",
       " 't40_N100_clade20_b1.5_d0.5_rate1_pr1',\n",
       " 't40_N100_clade20_b1.5_d0.5_rate2_pr1',\n",
       " 't40_N100_clade20_b1.5_d0.5_rate5_pr1',\n",
       " 't40_N100_clade20_b1.5_d0.5_rate1000_pr1',\n",
       " 't41_N100_clade20_b1.5_d0.5_rate1_pr1',\n",
       " 't41_N100_clade20_b1.5_d0.5_rate2_pr1',\n",
       " 't41_N100_clade20_b1.5_d0.5_rate5_pr1',\n",
       " 't41_N100_clade20_b1.5_d0.5_rate1000_pr1',\n",
       " 't42_N100_clade20_b1.5_d0.5_rate1_pr1',\n",
       " 't42_N100_clade20_b1.5_d0.5_rate2_pr1',\n",
       " 't42_N100_clade20_b1.5_d0.5_rate5_pr1',\n",
       " 't42_N100_clade20_b1.5_d0.5_rate1000_pr1',\n",
       " 't43_N100_clade20_b1.5_d0.5_rate1_pr1',\n",
       " 't43_N100_clade20_b1.5_d0.5_rate2_pr1',\n",
       " 't43_N100_clade20_b1.5_d0.5_rate5_pr1',\n",
       " 't43_N100_clade20_b1.5_d0.5_rate1000_pr1',\n",
       " 't44_N100_clade20_b1.5_d0.5_rate1_pr1',\n",
       " 't44_N100_clade20_b1.5_d0.5_rate2_pr1',\n",
       " 't44_N100_clade20_b1.5_d0.5_rate5_pr1',\n",
       " 't44_N100_clade20_b1.5_d0.5_rate1000_pr1',\n",
       " 't45_N100_clade20_b1.5_d0.5_rate1_pr1',\n",
       " 't45_N100_clade20_b1.5_d0.5_rate2_pr1',\n",
       " 't45_N100_clade20_b1.5_d0.5_rate5_pr1',\n",
       " 't45_N100_clade20_b1.5_d0.5_rate1000_pr1',\n",
       " 't46_N100_clade20_b1.5_d0.5_rate1_pr1',\n",
       " 't46_N100_clade20_b1.5_d0.5_rate2_pr1',\n",
       " 't46_N100_clade20_b1.5_d0.5_rate5_pr1',\n",
       " 't46_N100_clade20_b1.5_d0.5_rate1000_pr1',\n",
       " 't47_N100_clade20_b1.5_d0.5_rate1_pr1',\n",
       " 't47_N100_clade20_b1.5_d0.5_rate2_pr1',\n",
       " 't47_N100_clade20_b1.5_d0.5_rate5_pr1',\n",
       " 't47_N100_clade20_b1.5_d0.5_rate1000_pr1',\n",
       " 't48_N100_clade20_b1.5_d0.5_rate1_pr1',\n",
       " 't48_N100_clade20_b1.5_d0.5_rate2_pr1',\n",
       " 't48_N100_clade20_b1.5_d0.5_rate5_pr1',\n",
       " 't48_N100_clade20_b1.5_d0.5_rate1000_pr1',\n",
       " 't49_N100_clade20_b1.5_d0.5_rate1_pr1',\n",
       " 't49_N100_clade20_b1.5_d0.5_rate2_pr1',\n",
       " 't49_N100_clade20_b1.5_d0.5_rate5_pr1',\n",
       " 't49_N100_clade20_b1.5_d0.5_rate1000_pr1',\n",
       " 't50_N100_clade20_b1.5_d0.5_rate1_pr1',\n",
       " 't50_N100_clade20_b1.5_d0.5_rate2_pr1',\n",
       " 't50_N100_clade20_b1.5_d0.5_rate5_pr1',\n",
       " 't50_N100_clade20_b1.5_d0.5_rate1000_pr1']"
      ]
     },
     "execution_count": 48,
     "metadata": {},
     "output_type": "execute_result"
    }
   ],
   "source": [
    "n_sim = range(1,51)\n",
    "n_tips = [\"100\"]\n",
    "rate = [\"1\", \"2\", \"5\", \"1000\"]\n",
    "birth = [1.5]\n",
    "death = [0.5]\n",
    "clade = [20]\n",
    "prior_set = [1]\n",
    "\n",
    "analysis_list = []\n",
    "for t in n_sim:\n",
    "    for n in n_tips:\n",
    "        for c in clade:\n",
    "            for b in birth:\n",
    "                for d in death:\n",
    "                    for r in rate:\n",
    "                        for p in prior_set:\n",
    "                            analysis_list.append(\"t\" + str(t) + \"_N\" + str(n) + \n",
    "                                                 \"_clade\" + str(c) +\"_b\" + str(b) + \n",
    "                                                 \"_d\" + str(d) + \"_rate\" + r + \"_pr\" + str(p))\n",
    "\n",
    "analysis_list"
   ]
  },
  {
   "cell_type": "code",
   "execution_count": 50,
   "metadata": {},
   "outputs": [
    {
     "data": {
      "text/plain": [
       "['t1_N100_clade20_b1.5_d0.5_rate1000_pr1',\n",
       " 't2_N100_clade20_b1.5_d0.5_rate1000_pr1',\n",
       " 't3_N100_clade20_b1.5_d0.5_rate1000_pr1',\n",
       " 't4_N100_clade20_b1.5_d0.5_rate1000_pr1',\n",
       " 't5_N100_clade20_b1.5_d0.5_rate1000_pr1',\n",
       " 't6_N100_clade20_b1.5_d0.5_rate1000_pr1',\n",
       " 't7_N100_clade20_b1.5_d0.5_rate1000_pr1',\n",
       " 't8_N100_clade20_b1.5_d0.5_rate1000_pr1',\n",
       " 't9_N100_clade20_b1.5_d0.5_rate1000_pr1',\n",
       " 't10_N100_clade20_b1.5_d0.5_rate1000_pr1',\n",
       " 't11_N100_clade20_b1.5_d0.5_rate1000_pr1',\n",
       " 't12_N100_clade20_b1.5_d0.5_rate1000_pr1',\n",
       " 't13_N100_clade20_b1.5_d0.5_rate1000_pr1',\n",
       " 't14_N100_clade20_b1.5_d0.5_rate1000_pr1',\n",
       " 't15_N100_clade20_b1.5_d0.5_rate1000_pr1',\n",
       " 't16_N100_clade20_b1.5_d0.5_rate1000_pr1',\n",
       " 't17_N100_clade20_b1.5_d0.5_rate1000_pr1',\n",
       " 't18_N100_clade20_b1.5_d0.5_rate1000_pr1',\n",
       " 't19_N100_clade20_b1.5_d0.5_rate1000_pr1',\n",
       " 't20_N100_clade20_b1.5_d0.5_rate1000_pr1',\n",
       " 't21_N100_clade20_b1.5_d0.5_rate1000_pr1',\n",
       " 't22_N100_clade20_b1.5_d0.5_rate1000_pr1',\n",
       " 't23_N100_clade20_b1.5_d0.5_rate1000_pr1',\n",
       " 't24_N100_clade20_b1.5_d0.5_rate1000_pr1',\n",
       " 't25_N100_clade20_b1.5_d0.5_rate1000_pr1',\n",
       " 't26_N100_clade20_b1.5_d0.5_rate1000_pr1',\n",
       " 't27_N100_clade20_b1.5_d0.5_rate1000_pr1',\n",
       " 't28_N100_clade20_b1.5_d0.5_rate1000_pr1',\n",
       " 't29_N100_clade20_b1.5_d0.5_rate1000_pr1',\n",
       " 't30_N100_clade20_b1.5_d0.5_rate1000_pr1',\n",
       " 't31_N100_clade20_b1.5_d0.5_rate1000_pr1',\n",
       " 't32_N100_clade20_b1.5_d0.5_rate1000_pr1',\n",
       " 't33_N100_clade20_b1.5_d0.5_rate1000_pr1',\n",
       " 't34_N100_clade20_b1.5_d0.5_rate1000_pr1',\n",
       " 't35_N100_clade20_b1.5_d0.5_rate1000_pr1',\n",
       " 't36_N100_clade20_b1.5_d0.5_rate1000_pr1',\n",
       " 't37_N100_clade20_b1.5_d0.5_rate1000_pr1',\n",
       " 't38_N100_clade20_b1.5_d0.5_rate1000_pr1',\n",
       " 't39_N100_clade20_b1.5_d0.5_rate1000_pr1',\n",
       " 't40_N100_clade20_b1.5_d0.5_rate1000_pr1',\n",
       " 't41_N100_clade20_b1.5_d0.5_rate1000_pr1',\n",
       " 't42_N100_clade20_b1.5_d0.5_rate1000_pr1',\n",
       " 't43_N100_clade20_b1.5_d0.5_rate1000_pr1',\n",
       " 't44_N100_clade20_b1.5_d0.5_rate1000_pr1',\n",
       " 't45_N100_clade20_b1.5_d0.5_rate1000_pr1',\n",
       " 't46_N100_clade20_b1.5_d0.5_rate1000_pr1',\n",
       " 't47_N100_clade20_b1.5_d0.5_rate1000_pr1',\n",
       " 't48_N100_clade20_b1.5_d0.5_rate1000_pr1',\n",
       " 't49_N100_clade20_b1.5_d0.5_rate1000_pr1',\n",
       " 't50_N100_clade20_b1.5_d0.5_rate1000_pr1']"
      ]
     },
     "execution_count": 50,
     "metadata": {},
     "output_type": "execute_result"
    }
   ],
   "source": [
    "bayou_runs = []\n",
    "for i in analysis_list:\n",
    "    if \"rate1000\" in i:\n",
    "        bayou_runs.append(i)\n",
    "\n",
    "bayou_runs"
   ]
  },
  {
   "cell_type": "code",
   "execution_count": 41,
   "metadata": {},
   "outputs": [
    {
     "name": "stdout",
     "output_type": "stream",
     "text": [
      "('100', '1')\n",
      "(None, '2')\n",
      "(None, '5')\n",
      "(None, '1000')\n"
     ]
    }
   ],
   "source": [
    "for i in itertools.zip_longest(N,rate):\n",
    "    print(i)"
   ]
  },
  {
   "cell_type": "code",
   "execution_count": 28,
   "metadata": {},
   "outputs": [
    {
     "ename": "UnboundLocalError",
     "evalue": "local variable 'N' referenced before assignment",
     "output_type": "error",
     "traceback": [
      "\u001b[0;31m---------------------------------------------------------------------------\u001b[0m",
      "\u001b[0;31mUnboundLocalError\u001b[0m                         Traceback (most recent call last)",
      "\u001b[0;32m<ipython-input-28-e0617f87fe90>\u001b[0m in \u001b[0;36m<module>\u001b[0;34m()\u001b[0m\n\u001b[1;32m      6\u001b[0m                     \u001b[0mprint\u001b[0m\u001b[0;34m(\u001b[0m\u001b[0;34m\"N\"\u001b[0m \u001b[0;34m+\u001b[0m \u001b[0mN\u001b[0m \u001b[0;34m+\u001b[0m \u001b[0;34m\"_clade\"\u001b[0m \u001b[0;34m+\u001b[0m \u001b[0mc\u001b[0m \u001b[0;34m+\u001b[0m\u001b[0;34m\"_b\"\u001b[0m \u001b[0;34m+\u001b[0m \u001b[0mb\u001b[0m \u001b[0;34m+\u001b[0m \u001b[0;34m\"_d\"\u001b[0m \u001b[0;34m+\u001b[0m \u001b[0md\u001b[0m\u001b[0;34m)\u001b[0m\u001b[0;34m\u001b[0m\u001b[0m\n\u001b[1;32m      7\u001b[0m \u001b[0;34m\u001b[0m\u001b[0m\n\u001b[0;32m----> 8\u001b[0;31m \u001b[0mfactorial_names\u001b[0m\u001b[0;34m(\u001b[0m\u001b[0;34m)\u001b[0m\u001b[0;34m\u001b[0m\u001b[0m\n\u001b[0m",
      "\u001b[0;32m<ipython-input-28-e0617f87fe90>\u001b[0m in \u001b[0;36mfactorial_names\u001b[0;34m()\u001b[0m\n\u001b[1;32m      1\u001b[0m \u001b[0;32mdef\u001b[0m \u001b[0mfactorial_names\u001b[0m\u001b[0;34m(\u001b[0m\u001b[0;34m)\u001b[0m\u001b[0;34m:\u001b[0m\u001b[0;34m\u001b[0m\u001b[0m\n\u001b[0;32m----> 2\u001b[0;31m     \u001b[0;32mfor\u001b[0m \u001b[0mN\u001b[0m \u001b[0;32min\u001b[0m \u001b[0mN\u001b[0m\u001b[0;34m:\u001b[0m\u001b[0;34m\u001b[0m\u001b[0m\n\u001b[0m\u001b[1;32m      3\u001b[0m         \u001b[0;32mfor\u001b[0m \u001b[0mc\u001b[0m \u001b[0;32min\u001b[0m \u001b[0mclade\u001b[0m\u001b[0;34m:\u001b[0m\u001b[0;34m\u001b[0m\u001b[0m\n\u001b[1;32m      4\u001b[0m             \u001b[0;32mfor\u001b[0m \u001b[0mb\u001b[0m \u001b[0;32min\u001b[0m \u001b[0mbirth\u001b[0m\u001b[0;34m:\u001b[0m\u001b[0;34m\u001b[0m\u001b[0m\n\u001b[1;32m      5\u001b[0m                 \u001b[0;32mfor\u001b[0m \u001b[0md\u001b[0m \u001b[0;32min\u001b[0m \u001b[0mdeath\u001b[0m\u001b[0;34m:\u001b[0m\u001b[0;34m\u001b[0m\u001b[0m\n",
      "\u001b[0;31mUnboundLocalError\u001b[0m: local variable 'N' referenced before assignment"
     ]
    }
   ],
   "source": [
    "def factorial_names():\n",
    "    for N in N:\n",
    "        for c in clade:\n",
    "            for b in birth:\n",
    "                for d in death:\n",
    "                    print(\"N\" + N + \"_clade\" + c +\"_b\" + b + \"_d\" + d)\n",
    "  \n",
    "factorial_names()"
   ]
  },
  {
   "cell_type": "code",
   "execution_count": 10,
   "metadata": {},
   "outputs": [
    {
     "data": {
      "text/plain": [
       "[(1, 2, 3), (1, 3, 2), (2, 1, 3), (2, 3, 1), (3, 1, 2), (3, 2, 1)]"
      ]
     },
     "execution_count": 10,
     "metadata": {},
     "output_type": "execute_result"
    }
   ],
   "source": [
    "import itertools\n",
    "list(itertools.permutations([1, 2, 3]))"
   ]
  },
  {
   "cell_type": "code",
   "execution_count": 23,
   "metadata": {},
   "outputs": [
    {
     "ename": "NameError",
     "evalue": "name 'zip_longest' is not defined",
     "output_type": "error",
     "traceback": [
      "\u001b[0;31m---------------------------------------------------------------------------\u001b[0m",
      "\u001b[0;31mNameError\u001b[0m                                 Traceback (most recent call last)",
      "\u001b[0;32m<ipython-input-23-c7dedf421923>\u001b[0m in \u001b[0;36m<module>\u001b[0;34m()\u001b[0m\n\u001b[1;32m      1\u001b[0m \u001b[0mrate\u001b[0m \u001b[0;34m=\u001b[0m \u001b[0;34m[\u001b[0m\u001b[0;34m\"1\"\u001b[0m\u001b[0;34m]\u001b[0m\u001b[0;34m\u001b[0m\u001b[0m\n\u001b[1;32m      2\u001b[0m \u001b[0mN\u001b[0m \u001b[0;34m=\u001b[0m \u001b[0;34m[\u001b[0m\u001b[0;34m\"100\"\u001b[0m\u001b[0;34m,\u001b[0m \u001b[0;34m\"100\"\u001b[0m\u001b[0;34m,\u001b[0m \u001b[0;34m\"100\"\u001b[0m\u001b[0;34m,\u001b[0m \u001b[0;34m\"100\"\u001b[0m\u001b[0;34m]\u001b[0m\u001b[0;34m\u001b[0m\u001b[0m\n\u001b[0;32m----> 3\u001b[0;31m \u001b[0;32mfor\u001b[0m \u001b[0mi\u001b[0m \u001b[0;32min\u001b[0m \u001b[0mzip_longest\u001b[0m\u001b[0;34m(\u001b[0m\u001b[0mrate\u001b[0m\u001b[0;34m,\u001b[0m\u001b[0mN\u001b[0m\u001b[0;34m)\u001b[0m\u001b[0;34m:\u001b[0m\u001b[0;34m\u001b[0m\u001b[0m\n\u001b[0m\u001b[1;32m      4\u001b[0m     \u001b[0mprint\u001b[0m\u001b[0;34m(\u001b[0m\u001b[0mi\u001b[0m\u001b[0;34m[\u001b[0m\u001b[0;36m0\u001b[0m\u001b[0;34m]\u001b[0m \u001b[0;34m+\u001b[0m \u001b[0mi\u001b[0m\u001b[0;34m[\u001b[0m\u001b[0;36m1\u001b[0m\u001b[0;34m]\u001b[0m\u001b[0;34m)\u001b[0m\u001b[0;34m\u001b[0m\u001b[0m\n",
      "\u001b[0;31mNameError\u001b[0m: name 'zip_longest' is not defined"
     ]
    }
   ],
   "source": [
    "rate = [\"1\"]\n",
    "N = [\"100\", \"100\", \"100\", \"100\"]\n",
    "for i in zip_longest(rate,N):\n",
    "    print(i[0] + i[1])"
   ]
  },
  {
   "cell_type": "code",
   "execution_count": 3,
   "metadata": {},
   "outputs": [],
   "source": [
    "dd = \"\"\"\n",
    "7\n",
    "2\n",
    "VarRates\n",
    "LogFile bt_files_5mil\n",
    "SaveModels\n",
    "Iterations 11000000\n",
    "Run\n",
    "\"\"\"\n",
    "\n",
    "with open(\"bt_config.txt\", \"w\") as outfile:\n",
    "    outfile.write(dd)"
   ]
  },
  {
   "cell_type": "code",
   "execution_count": null,
   "metadata": {
    "collapsed": true
   },
   "outputs": [],
   "source": [
    "n_gen  = snakemake@config[[\"n_gen\"]]\n",
    "burnin = snakemake@config[[\"burnin\"]]\n",
    "tree_f = snakemake@input[[\"tree_f\"]]\n",
    "trait_f = snakemake@input[[\"trait_f\"]]\n",
    "prior_f = snakemake@input[[\"prior_f\"]]\n",
    "tree_f = paste0(strsplit(trait_f, \"_rate\")[[1]][1], \".nwk\")\n",
    "checkpoint = snakemake@output[[\"checkpoint\"]]"
   ]
  },
  {
   "cell_type": "code",
   "execution_count": 11,
   "metadata": {},
   "outputs": [
    {
     "ename": "NameError",
     "evalue": "name 'snakemake' is not defined",
     "output_type": "error",
     "traceback": [
      "\u001b[0;31m---------------------------------------------------------------------------\u001b[0m",
      "\u001b[0;31mNameError\u001b[0m                                 Traceback (most recent call last)",
      "\u001b[0;32m<ipython-input-11-46b71129c26f>\u001b[0m in \u001b[0;36m<module>\u001b[0;34m()\u001b[0m\n\u001b[1;32m      1\u001b[0m \u001b[0;32mfrom\u001b[0m \u001b[0mshutil\u001b[0m \u001b[0;32mimport\u001b[0m \u001b[0mcopyfile\u001b[0m\u001b[0;34m\u001b[0m\u001b[0m\n\u001b[1;32m      2\u001b[0m \u001b[0;32mimport\u001b[0m \u001b[0msubprocess\u001b[0m\u001b[0;34m\u001b[0m\u001b[0m\n\u001b[0;32m----> 3\u001b[0;31m \u001b[0mn_gen\u001b[0m  \u001b[0;34m=\u001b[0m \u001b[0msnakemake\u001b[0m\u001b[0;34m@\u001b[0m\u001b[0mconfig\u001b[0m\u001b[0;34m[\u001b[0m\u001b[0;34m\"n_gen\"\u001b[0m\u001b[0;34m]\u001b[0m\u001b[0;34m\u001b[0m\u001b[0m\n\u001b[0m\u001b[1;32m      4\u001b[0m \u001b[0mburnin\u001b[0m \u001b[0;34m=\u001b[0m \u001b[0msnakemake\u001b[0m\u001b[0;34m@\u001b[0m\u001b[0mconfig\u001b[0m\u001b[0;34m[\u001b[0m\u001b[0;34m\"burnin\"\u001b[0m\u001b[0;34m]\u001b[0m\u001b[0;34m\u001b[0m\u001b[0m\n\u001b[1;32m      5\u001b[0m \u001b[0mtree_f\u001b[0m \u001b[0;34m=\u001b[0m \u001b[0msnakemake\u001b[0m\u001b[0;34m@\u001b[0m\u001b[0minput\u001b[0m\u001b[0;34m[\u001b[0m\u001b[0;34m\"tree_f\"\u001b[0m\u001b[0;34m]\u001b[0m\u001b[0;34m\u001b[0m\u001b[0m\n",
      "\u001b[0;31mNameError\u001b[0m: name 'snakemake' is not defined"
     ]
    }
   ],
   "source": [
    "from shutil import copyfile\n",
    "import subprocess\n",
    "n_gen  = snakemake@config[\"n_gen\"]\n",
    "burnin = snakemake@config[\"burnin\"]\n",
    "tree_f = snakemake@input[\"tree_f\"]\n",
    "outfile_n = \"lol.txt\"\n",
    "\n",
    "print(tree_f)\n",
    "\n",
    "bt_burnin = n_gen * burnin\n",
    "\n",
    "copyfile(\"/Users/jeremias/Dropbox/Bioinformatics/Reports/bm_sim/config_files/pr1.bt\", outfile_n)\n",
    "\n",
    "with open(outfile_n, \"a\") as o_f:\n",
    "    o_f.write(\"Iterations \" + str(n_gen))\n",
    "    o_f.write(\"Burnin \" + str(bt_burnin))\n",
    "    o_f.write(\"logFile \" + outdir + log_name)\n",
    "    o_f.write(\"SaveModels\")\n",
    "    o_f.write(\"Run\")\n",
    "    \n",
    "    \n",
    "subprocess.call([\"BayesTraits3\", tree_f, trait_f, \"<\", outfile_n])\n",
    "\n",
    "    \n"
   ]
  },
  {
   "cell_type": "code",
   "execution_count": 18,
   "metadata": {},
   "outputs": [
    {
     "data": {
      "text/plain": [
       "'t10_N100_clade20_b1.5_d0.5_rate10.trait.nex'"
      ]
     },
     "execution_count": 18,
     "metadata": {},
     "output_type": "execute_result"
    }
   ],
   "source": [
    "dd = \"data/t10_N100_clade20_b1.5_d0.5_rate10.trait\"\n",
    "dd.split(\"/\")[1] + \".nex\" "
   ]
  }
 ],
 "metadata": {
  "kernelspec": {
   "display_name": "Python 3",
   "language": "python",
   "name": "python3"
  },
  "language_info": {
   "codemirror_mode": {
    "name": "ipython",
    "version": 3
   },
   "file_extension": ".py",
   "mimetype": "text/x-python",
   "name": "python",
   "nbconvert_exporter": "python",
   "pygments_lexer": "ipython3",
   "version": "3.6.2"
  }
 },
 "nbformat": 4,
 "nbformat_minor": 2
}
